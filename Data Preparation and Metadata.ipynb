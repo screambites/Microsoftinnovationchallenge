{
 "cells": [
  {
   "cell_type": "markdown",
   "id": "02e5c156",
   "metadata": {},
   "source": [
    "# Data Preparation and Merging \n",
    "\n",
    "Creating a comprehensive dataset for use in ML\n"
   ]
  },
  {
   "cell_type": "markdown",
   "id": "7d43a9a9",
   "metadata": {},
   "source": [
    "Prepared by: Becky L, last updated: 10/28/24"
   ]
  },
  {
   "attachments": {},
   "cell_type": "markdown",
   "id": "8224f89b",
   "metadata": {},
   "source": [
    "## Data Sources:\n",
    "\n",
    "### EPA - Excess Food Opportunities Map.  Restaurants, retailers (grocery), and foodbank locations (rolled up to State level) were used. \n",
    "\n",
    "https://experience.arcgis.com/experience/793a7912cb184f7792fc02a9bac4192b\n",
    "\n",
    "> __About the U.S. EPA Excess Food Opportunities Map:__ The U.S. EPA Excess Food Opportunities Map supports nationwide diversion of excess food from landfills. The interactive map identifies and displays facility-specific information about potential generators and recipients of excess food in the industrial, commercial and institutional sectors and also provides estimates of excess food by generator type.  The map displays the locations of nearly 950,000 potential excess food generators.\n",
    "\n",
    "> For this project, only the following sources were used: food banks, food wholesale and retail, restaurants and food services.  Although the locations were provided by address, the data were pivoted and summarized at the state level.  A secondary dataset was obtained at the zipcode level for these data only and were not part of the combined dataset.\n",
    "\n",
    "> __Food Wholesale and Retail, US and Territories, 2023, EPA Region 9:__ Abstract: This table contains features that represent food wholesalers and retailers (supermarkets, grocery stores, and supercenters) represented by 24 unique NAICS codes. Establishment-specific information except the annual excess food estimate was licensed to the EPA from D&B Hoovers in 2021 (https://www.dnb.com/).  Calculations used to estimate annual excess food estimates are described in EPA’s 2023 publication: EPA Excess Food Opportunities Map Version 3 - Technical Methodology. The dataset contains 197,455 facilities.\n",
    "\n",
    "> __Restaurants and Food Services, US and Territories, 2023, EPA Region 9:__ Abstract: This table contains features that represent restaurants and caterers represented by six unique NAICS codes. Establishment-specific information except the annual excess food estimate was licensed to the EPA from D&B Hoovers in 2021 (https://www.dnb.com/). Calculations used to estimate annual excess food estimates are described in EPA’s 2023 publication: EPA Excess Food Opportunities Map Version 3 - Technical Methodology. The dataset contains 451,092 facilities. \n",
    "\n",
    ">__Food Banks:__ Abstract: This layer contains point features that represent facilities that recover excess food to feed people across the US. Food bank information was collected in 2015 from Feeding America(www.feedingamerica.org), a national organization for food banks, and includes food banks as well as Partner Distribution Organizations (PDO) and Regional Distribution Organizations (RDO). Sources of annual excess food weight are described in EPA’s 2019 publication: Technical Methodology for the EPA Excess Food Opportunities Map. The dataset contains 316 facilities. This layer is not authoritative as the data is from 2015; this layer is planned to be updated and replaced in 2024.\n",
    "\n",
    "![epa.png](images/epa.png)\n",
    "\n",
    "\n",
    "\n",
    "### ReFED: summary and detail csv files for US and States on food surplus.\n",
    "https://insights-engine.refed.org/food-waste-monitor?view=overview&year=2022\n",
    "\n",
    "> __ReFED Insights Engine:__ An online hub for data and solutions featuring the most comprehensive examination of food loss and waste in the United States – includes the Food Waste Monitor, Solutions Database, Solution Provider Directory, Impact Calculator, Capital Tracker, and Policy Finder.\n",
    "\n",
    "![title](images/refed.png)\n",
    "\n",
    "### Census: population estimates by State \n",
    "https://www.census.gov/data/tables/time-series/demo/popest/2020s-state-total.html\n",
    "\n",
    "> __Census.gov State Population Totals and Components of Change: 2020-2023__ This page features files containing state population totals and components of change for years 2020 to 2023.  For the most recent data available, please refer to the Vintage 2023 data. Vintage 2023 is the most recent completed vintage and consistent set of estimates.\n",
    "\n",
    "![title](images/census.png)\n",
    "\n",
    "\n",
    "### USDA: prevalence of food insecurity average 2021-2023 by state \n",
    "https://www.ers.usda.gov/topics/food-nutrition-assistance/food-security-in-the-u-s/key-statistics-graphics/\n",
    "\n",
    "> __State-level Prevalence of Food Insecurity__\n",
    "> Prevalence rates of food insecurity varied considerably from State to State. Data for 3 years, 2021–2023, were combined to provide more reliable statistics at the State level. Estimated prevalence rates of food insecurity during this 3-year period ranged from 7.4 percent in New Hampshire to 18.9 percent in Arkansas; estimated prevalence rates of very low food security ranged from 3.2 percent in Iowa, Massachusetts, New Hampshire, New Jersey, and North Dakota to 7.0 percent in South Carolina.\n",
    "Referencing: Household Food Security in the United States in 2023 https://www.ers.usda.gov/publications/pub-details/?pubid=109895\n",
    "\n",
    "![title](images/usda.png)\n",
    "\n"
   ]
  },
  {
   "cell_type": "markdown",
   "id": "ce8f31e0",
   "metadata": {},
   "source": [
    "## Dataset Design:\n",
    "\n",
    "From EPA data\n",
    "* State = US State (note: DC has limited data)\n",
    "* Excess_Food_Low_Tons = estimated excess food from grocery and restaurants combined (low estimate)\n",
    "* Excess_Food_High_Tons = estimated excess food from grocery and restaurants combined (high estimate)\n",
    "\n",
    "From ReFED data (limited to restaurant and grocery source only) by state\n",
    "* Tons_Beverages_Don = donated tons of beverages (ready-to-drink) in tons\n",
    "* Tons_Bread_Don = donated bread/bakery in tons\n",
    "* Tons_Dairy_Eggs_Don = donated dairy/eggs in tons\n",
    "* Tons_Dry_Don\t= donated dry goods in tons\n",
    "* Tons_Frozen_Don = donated frozen foods in tons\n",
    "* Tons_Meat_Don = donated meat (incl seafood) in tons\n",
    "* Tons_Prepared_Don = donated prepared food in tons\n",
    "* Tons_Produce_Don = donated produce in tons\n",
    "\n",
    "From USDA data\n",
    "* households_avg_21_23 = number of households averaged across 2021-2023\n",
    "* food_insecurity_percent = % food insecure in that state\n",
    "* very_low_food_security_percent = % very food insecure in that state\n",
    "\n",
    "From Census data (estimated for July 1 of each year by state)\n",
    "* pop2020 = population estimate for 2020\n",
    "* pop2021 = pop estimate for 2021\n",
    "* pop2022 = pop estimate for 2022\n",
    "* pop2023 = pop estimate for 2023\n",
    "\n",
    "From EPA data (above) for food banks\n",
    "\n",
    "* FoodBank_recd_TonYear\t= donations recieved at a foodbank in tons (totalled for each state)\n",
    "* foodbanks = number of food banks per state"
   ]
  },
  {
   "cell_type": "markdown",
   "id": "98ce5a97",
   "metadata": {},
   "source": [
    "## Processing Steps\n",
    "\n",
    "* individual csv and xlsx files were evaluated for data quality and data errors.\n",
    "* Some files contained state names, while others contained state 2-letter abbreviations.\n",
    "* All full state names were converted to 2-letter abbreviations.\n",
    "* Data containing PR and VI were removed.\n",
    "* Data containing multiple records for each state were summated by state.\n",
    "* Data were joined on state abbreviations.\n",
    "* Column headers were changed to descriptive names.\n",
    "* All data processing occurred in Microsoft Excel."
   ]
  },
  {
   "cell_type": "code",
   "execution_count": null,
   "id": "1c7d69f1",
   "metadata": {},
   "outputs": [],
   "source": []
  }
 ],
 "metadata": {
  "kernelspec": {
   "display_name": "Python 3 (ipykernel)",
   "language": "python",
   "name": "python3"
  },
  "language_info": {
   "codemirror_mode": {
    "name": "ipython",
    "version": 3
   },
   "file_extension": ".py",
   "mimetype": "text/x-python",
   "name": "python",
   "nbconvert_exporter": "python",
   "pygments_lexer": "ipython3",
   "version": "3.11.1"
  },
  "toc": {
   "base_numbering": 1,
   "nav_menu": {},
   "number_sections": true,
   "sideBar": true,
   "skip_h1_title": false,
   "title_cell": "Table of Contents",
   "title_sidebar": "Contents",
   "toc_cell": false,
   "toc_position": {},
   "toc_section_display": true,
   "toc_window_display": false
  }
 },
 "nbformat": 4,
 "nbformat_minor": 5
}
